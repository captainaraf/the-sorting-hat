{
 "cells": [
  {
   "cell_type": "code",
   "execution_count": 1,
   "metadata": {},
   "outputs": [
    {
     "data": {
      "text/html": [
       "<div>\n",
       "<style scoped>\n",
       "    .dataframe tbody tr th:only-of-type {\n",
       "        vertical-align: middle;\n",
       "    }\n",
       "\n",
       "    .dataframe tbody tr th {\n",
       "        vertical-align: top;\n",
       "    }\n",
       "\n",
       "    .dataframe thead th {\n",
       "        text-align: right;\n",
       "    }\n",
       "</style>\n",
       "<table border=\"1\" class=\"dataframe\">\n",
       "  <thead>\n",
       "    <tr style=\"text-align: right;\">\n",
       "      <th></th>\n",
       "      <th>Name</th>\n",
       "      <th>Bravery</th>\n",
       "      <th>Loyalty</th>\n",
       "      <th>Wisdom</th>\n",
       "      <th>Ambition</th>\n",
       "      <th>Favorite_Subject</th>\n",
       "      <th>Quidditch_Fan</th>\n",
       "      <th>House</th>\n",
       "    </tr>\n",
       "  </thead>\n",
       "  <tbody>\n",
       "    <tr>\n",
       "      <th>0</th>\n",
       "      <td>Harry Potter</td>\n",
       "      <td>10</td>\n",
       "      <td>6</td>\n",
       "      <td>7</td>\n",
       "      <td>8</td>\n",
       "      <td>Defense Against the Dark Arts</td>\n",
       "      <td>Yes</td>\n",
       "      <td>Gryffindor</td>\n",
       "    </tr>\n",
       "    <tr>\n",
       "      <th>1</th>\n",
       "      <td>Hermione Granger</td>\n",
       "      <td>8</td>\n",
       "      <td>7</td>\n",
       "      <td>10</td>\n",
       "      <td>6</td>\n",
       "      <td>Charms</td>\n",
       "      <td>No</td>\n",
       "      <td>Gryffindor</td>\n",
       "    </tr>\n",
       "    <tr>\n",
       "      <th>2</th>\n",
       "      <td>Ron Weasley</td>\n",
       "      <td>7</td>\n",
       "      <td>9</td>\n",
       "      <td>6</td>\n",
       "      <td>5</td>\n",
       "      <td>Herbology</td>\n",
       "      <td>Yes</td>\n",
       "      <td>Gryffindor</td>\n",
       "    </tr>\n",
       "    <tr>\n",
       "      <th>3</th>\n",
       "      <td>Draco Malfoy</td>\n",
       "      <td>4</td>\n",
       "      <td>5</td>\n",
       "      <td>6</td>\n",
       "      <td>10</td>\n",
       "      <td>Potions</td>\n",
       "      <td>Yes</td>\n",
       "      <td>Slytherin</td>\n",
       "    </tr>\n",
       "    <tr>\n",
       "      <th>4</th>\n",
       "      <td>Luna Lovegood</td>\n",
       "      <td>5</td>\n",
       "      <td>6</td>\n",
       "      <td>10</td>\n",
       "      <td>4</td>\n",
       "      <td>Charms</td>\n",
       "      <td>No</td>\n",
       "      <td>Ravenclaw</td>\n",
       "    </tr>\n",
       "  </tbody>\n",
       "</table>\n",
       "</div>"
      ],
      "text/plain": [
       "               Name  Bravery  Loyalty  Wisdom  Ambition  \\\n",
       "0      Harry Potter       10        6       7         8   \n",
       "1  Hermione Granger        8        7      10         6   \n",
       "2       Ron Weasley        7        9       6         5   \n",
       "3      Draco Malfoy        4        5       6        10   \n",
       "4     Luna Lovegood        5        6      10         4   \n",
       "\n",
       "                Favorite_Subject Quidditch_Fan       House  \n",
       "0  Defense Against the Dark Arts           Yes  Gryffindor  \n",
       "1                         Charms            No  Gryffindor  \n",
       "2                      Herbology           Yes  Gryffindor  \n",
       "3                        Potions           Yes   Slytherin  \n",
       "4                         Charms            No   Ravenclaw  "
      ]
     },
     "execution_count": 1,
     "metadata": {},
     "output_type": "execute_result"
    }
   ],
   "source": [
    "import pandas as pd\n",
    "df = pd.read_csv(\"dataset.csv\")\n",
    "df.head()\n"
   ]
  },
  {
   "cell_type": "code",
   "execution_count": 2,
   "metadata": {},
   "outputs": [
    {
     "name": "stdout",
     "output_type": "stream",
     "text": [
      "<class 'pandas.core.frame.DataFrame'>\n",
      "RangeIndex: 20 entries, 0 to 19\n",
      "Data columns (total 8 columns):\n",
      " #   Column            Non-Null Count  Dtype \n",
      "---  ------            --------------  ----- \n",
      " 0   Name              20 non-null     object\n",
      " 1   Bravery           20 non-null     int64 \n",
      " 2   Loyalty           20 non-null     int64 \n",
      " 3   Wisdom            20 non-null     int64 \n",
      " 4   Ambition          20 non-null     int64 \n",
      " 5   Favorite_Subject  20 non-null     object\n",
      " 6   Quidditch_Fan     20 non-null     object\n",
      " 7   House             20 non-null     object\n",
      "dtypes: int64(4), object(4)\n",
      "memory usage: 1.4+ KB\n"
     ]
    }
   ],
   "source": [
    "df.info()"
   ]
  },
  {
   "cell_type": "code",
   "execution_count": 3,
   "metadata": {},
   "outputs": [
    {
     "name": "stderr",
     "output_type": "stream",
     "text": [
      "Matplotlib is building the font cache; this may take a moment.\n",
      "/tmp/ipykernel_60598/260095716.py:5: FutureWarning: \n",
      "\n",
      "Passing `palette` without assigning `hue` is deprecated and will be removed in v0.14.0. Assign the `x` variable to `hue` and set `legend=False` for the same effect.\n",
      "\n",
      "  sns.countplot(x=df[\"House\"], palette=\"Set2\")\n"
     ]
    },
    {
     "data": {
      "image/png": "[encoded data removed]",
      "text/plain": [
       "<Figure size 800x500 with 1 Axes>"
      ]
     },
     "metadata": {},
     "output_type": "display_data"
    }
   ],
   "source": [
    "import matplotlib.pyplot as plt\n",
    "import seaborn as sns\n",
    "\n",
    "plt.figure(figsize=(8, 5))\n",
    "sns.countplot(x=df[\"House\"], palette=\"Set2\")\n",
    "plt.title(\"House Distribution\")\n",
    "plt.show()"
   ]
  },
  {
   "cell_type": "code",
   "execution_count": 4,
   "metadata": {},
   "outputs": [
    {
     "name": "stderr",
     "output_type": "stream",
     "text": [
      "/tmp/ipykernel_60598/3555328267.py:2: FutureWarning: \n",
      "\n",
      "Passing `palette` without assigning `hue` is deprecated and will be removed in v0.14.0. Assign the `x` variable to `hue` and set `legend=False` for the same effect.\n",
      "\n",
      "  sns.boxplot(x=\"House\", y=\"Bravery\", data=df, palette=\"coolwarm\")\n"
     ]
    },
    {
     "data": {
      "image/png": "[encoded data removed]",
      "text/plain": [
       "<Figure size 1000x600 with 1 Axes>"
      ]
     },
     "metadata": {},
     "output_type": "display_data"
    }
   ],
   "source": [
    "plt.figure(figsize=(10, 6))\n",
    "sns.boxplot(x=\"House\", y=\"Bravery\", data=df, palette=\"coolwarm\")\n",
    "plt.title(\"Bravery Distribution Across Houses\")\n",
    "plt.show()"
   ]
  },
  {
   "cell_type": "code",
   "execution_count": 5,
   "metadata": {},
   "outputs": [],
   "source": [
    "from sklearn.preprocessing import LabelEncoder\n",
    "\n",
    "encoder = LabelEncoder()\n",
    "\n",
    "df[\"Favorite_Subject\"] = encoder.fit_transform(df[\"Favorite_Subject\"])\n",
    "df[\"Quidditch_Fan\"] = df[\"Quidditch_Fan\"].map({\"Yes\": 1, \"No\": 0})\n",
    "df[\"House\"] = encoder.fit_transform(df[\"House\"])"
   ]
  },
  {
   "cell_type": "code",
   "execution_count": 6,
   "metadata": {},
   "outputs": [
    {
     "name": "stdout",
     "output_type": "stream",
     "text": [
      "{'Bravery': 9, 'Loyalty': 4, 'Wisdom': 6, 'Ambition': 7, 'Favorite_Subject': 'Potions', 'Quidditch_Fan': 'Yes'}\n"
     ]
    }
   ],
   "source": [
    "sample_student = {\n",
    "    \"Bravery\": 9,\n",
    "    \"Loyalty\": 4,\n",
    "    \"Wisdom\": 6,\n",
    "    \"Ambition\": 7,\n",
    "    \"Favorite_Subject\": \"Potions\",\n",
    "    \"Quidditch_Fan\": \"Yes\",\n",
    "}\n",
    "\n",
    "print(sample_student)"
   ]
  }
 ],
 "metadata": {
  "kernelspec": {
   "display_name": "venv",
   "language": "python",
   "name": "python3"
  },
  "language_info": {
   "codemirror_mode": {
    "name": "ipython",
    "version": 3
   },
   "file_extension": ".py",
   "mimetype": "text/x-python",
   "name": "python",
   "nbconvert_exporter": "python",
   "pygments_lexer": "ipython3",
   "version": "3.12.7"
  }
 },
 "nbformat": 4,
 "nbformat_minor": 2
}
